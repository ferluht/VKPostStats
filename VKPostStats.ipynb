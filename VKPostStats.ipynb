{
 "cells": [
  {
   "cell_type": "markdown",
   "metadata": {},
   "source": [
    "## VK post stats collector\n",
    "ferluht, 2019"
   ]
  },
  {
   "cell_type": "code",
   "execution_count": null,
   "metadata": {
    "scrolled": true
   },
   "outputs": [],
   "source": [
    "!pip install -r requirements.txt"
   ]
  },
  {
   "cell_type": "code",
   "execution_count": null,
   "metadata": {},
   "outputs": [],
   "source": [
    "import vk\n",
    "import re\n",
    "import json\n",
    "from tqdm import tqdm_notebook as tqdm\n",
    "from time import sleep\n",
    "import pandas as pd\n",
    "from datetime import datetime, date, timedelta\n",
    "from collections import Counter"
   ]
  },
  {
   "cell_type": "code",
   "execution_count": null,
   "metadata": {},
   "outputs": [],
   "source": [
    "from plotly import __version__\n",
    "from plotly.offline import download_plotlyjs, init_notebook_mode, plot, iplot\n",
    "import plotly.graph_objs as go\n",
    "init_notebook_mode(connected=True)"
   ]
  },
  {
   "cell_type": "code",
   "execution_count": null,
   "metadata": {},
   "outputs": [],
   "source": [
    "sess = vk.AuthSession(user_login='', user_password='', app_id=6808809, scope='scope')\n",
    "api = vk.API(sess, v='5.35')\n",
    "print(sess.access_token)"
   ]
  },
  {
   "cell_type": "code",
   "execution_count": null,
   "metadata": {},
   "outputs": [],
   "source": [
    "posts_urls = [\n",
    "    'https://vk.com/wall-39687507_32353', \n",
    "    'https://vk.com/wall-54566161_518165',\n",
    "    'https://vk.com/wall-83415396_141392',\n",
    "    'https://vk.com/wall-69563163_989262',\n",
    "    'https://vk.com/wall-71960446_175792',\n",
    "]"
   ]
  },
  {
   "cell_type": "markdown",
   "metadata": {},
   "source": [
    "## Repost stats"
   ]
  },
  {
   "cell_type": "code",
   "execution_count": null,
   "metadata": {},
   "outputs": [],
   "source": [
    "def get_reposts(post_urls, group_id=None, debug=False, waittime=0.4):\n",
    "    \n",
    "    if not isinstance(post_urls, (list,)):\n",
    "        post_urls = [post_urls,]\n",
    "    \n",
    "    def wait():\n",
    "        sleep(waittime)\n",
    "        \n",
    "    reposts = {\n",
    "        'group': [],\n",
    "        'name': [],\n",
    "        'profile': [],\n",
    "        'repost text': [],\n",
    "        'repost likes': [],\n",
    "        'repost can like': [],\n",
    "        'repost comments': [],\n",
    "        'repost link': [],\n",
    "        'group member': []\n",
    "    }\n",
    "        \n",
    "    for post_url in post_urls:\n",
    "    \n",
    "        owner_id = int(re.search('.*wall(.*)_.*', post_url).group(1))\n",
    "        item_id = int(re.search('.*_(.*)', post_url).group(1))\n",
    "        likes_list = api.likes.getList(type='post', owner_id=owner_id, item_id=item_id, count=1000)\n",
    "\n",
    "        group_name = api.groups.getById(group_ids=str(abs(owner_id)))[0]['name']\n",
    "\n",
    "        print (group_name)\n",
    "        \n",
    "        for user in tqdm(likes_list['items']):\n",
    "            user_info = api.users.get(user_ids=int(user))\n",
    "            wait()\n",
    "            if isinstance(user_info, (list,)):\n",
    "                    user_info = user_info[0]\n",
    "            try:\n",
    "                wall = api.wall.get(owner_id=user)\n",
    "                wait()\n",
    "                for post in wall['items']:\n",
    "                    pts = json.dumps(post)\n",
    "                    if bool(re.search(str(owner_id), pts)) and bool(re.search(str(item_id), pts)):\n",
    "                        reposts['group'].append(group_name)\n",
    "                        reposts['name'].append(user_info['first_name'] + ' ' + user_info['last_name'])\n",
    "                        reposts['profile'].append('https://vk.com/id' + str(user_info['id']))\n",
    "                        reposts['repost text'].append(post['text'])\n",
    "                        reposts['repost likes'].append(post['likes']['count'])\n",
    "                        reposts['repost can like'].append(post['likes']['can_like'])\n",
    "                        reposts['repost comments'].append(post['comments']['count'])\n",
    "                        reposts['repost link'].append('{}?w=wall{}_{}'.format(reposts['profile'][-1], post['owner_id'], post['id']))\n",
    "                        reposts['group member'].append('N/A')\n",
    "                        if group_id is not None:\n",
    "                            try:\n",
    "                                ismember = api.groups.isMember(group_id=group_id, user_id=user_info['id'])\n",
    "                                reposts['group member'][-1] = bool(ismember)\n",
    "                            except:\n",
    "                                pass\n",
    "                            wait()\n",
    "\n",
    "                        if debug:\n",
    "                            print(post)\n",
    "\n",
    "            except Exception as error:\n",
    "                if debug:\n",
    "                    print(user_info['first_name'] + ' ' + user_info['last_name'] + ' ' + str(error))\n",
    "        \n",
    "    return pd.DataFrame(reposts)"
   ]
  },
  {
   "cell_type": "code",
   "execution_count": null,
   "metadata": {},
   "outputs": [],
   "source": [
    "res = get_reposts(posts_urls, group_id='ed9m_8')"
   ]
  },
  {
   "cell_type": "code",
   "execution_count": null,
   "metadata": {},
   "outputs": [],
   "source": [
    "print('overall found reposts {}'.format(len(res)))\n",
    "res.head(20)"
   ]
  },
  {
   "cell_type": "code",
   "execution_count": null,
   "metadata": {},
   "outputs": [],
   "source": [
    "res.to_csv('reposts.csv')"
   ]
  },
  {
   "cell_type": "markdown",
   "metadata": {},
   "source": [
    "## Like stats"
   ]
  },
  {
   "cell_type": "code",
   "execution_count": null,
   "metadata": {},
   "outputs": [],
   "source": [
    "def get_like_stats(post_urls, group_id=None, debug=False, waittime=0.4):\n",
    "    if not isinstance(post_urls, (list,)):\n",
    "        post_urls = [post_urls,]\n",
    "    \n",
    "    def wait():\n",
    "        sleep(waittime)\n",
    "    \n",
    "    ages = []\n",
    "    sexes = []\n",
    "    cities = []\n",
    "    universities = []\n",
    "        \n",
    "    for post_url in post_urls:\n",
    "        owner_id = int(re.search('.*wall(.*)_.*', post_url).group(1))\n",
    "        item_id = int(re.search('.*_(.*)', post_url).group(1))\n",
    "        group_name = api.groups.getById(group_ids=str(abs(owner_id)))[0]['name']\n",
    "        print (group_name)\n",
    "        likes_list = api.likes.getList(type='post', owner_id=owner_id, item_id=item_id, count=1000)\n",
    "        for user in tqdm(likes_list['items']):\n",
    "            user_info = api.users.get(user_ids=int(user), fields='sex,bdate,city,country,education,followers_count,is_friend')[0]\n",
    "            if debug:\n",
    "                print(user_info)\n",
    "            if 'bdate' in user_info and user_info['bdate'].count('.') == 2:\n",
    "                age = (date.today() - datetime.strptime(user_info['bdate'], '%d.%M.%Y').date()).days/365\n",
    "                ages.append(age)\n",
    "            if 'city' in user_info:\n",
    "                cities.append(user_info['city']['title'])\n",
    "            if 'sex' in user_info:\n",
    "                sexes.append(user_info['sex'])\n",
    "            if 'university_name' in user_info and user_info['university_name'] != '':\n",
    "                universities.append(user_info['university_name'])\n",
    "            wait()\n",
    "            \n",
    "    return ages, sexes, cities, universities"
   ]
  },
  {
   "cell_type": "code",
   "execution_count": null,
   "metadata": {
    "scrolled": true
   },
   "outputs": [],
   "source": [
    "ages, sexes, cities, universities = get_like_stats(posts_urls)"
   ]
  },
  {
   "cell_type": "markdown",
   "metadata": {},
   "source": [
    "### Age distribution"
   ]
  },
  {
   "cell_type": "code",
   "execution_count": null,
   "metadata": {},
   "outputs": [],
   "source": [
    "data = [go.Histogram(x=ages, nbinsx = 50)]\n",
    "\n",
    "layout = go.Layout(title='Likes by age',)\n",
    "fig = go.Figure(data=data, layout=layout)\n",
    "iplot(fig)"
   ]
  },
  {
   "cell_type": "markdown",
   "metadata": {},
   "source": [
    "### Cities"
   ]
  },
  {
   "cell_type": "code",
   "execution_count": null,
   "metadata": {},
   "outputs": [],
   "source": [
    "topN = 10\n",
    "counts = Counter(cities)\n",
    "counts = {k: v for k, v in sorted(counts.items(), key=lambda x: x[1])}\n",
    "others = {k: counts[k] for k in list(counts)[:-topN]}\n",
    "counts = {k: counts[k] for k in list(counts)[-topN:]}\n",
    "counts['others'] = sum(list(others.values()))\n",
    "trace = go.Pie(labels=list(counts.keys()), values=list(counts.values()))\n",
    "\n",
    "data = [trace,]\n",
    "layout = go.Layout(title='Likes by city',)\n",
    "fig = go.Figure(data=data, layout=layout)\n",
    "iplot(fig)"
   ]
  },
  {
   "cell_type": "markdown",
   "metadata": {},
   "source": [
    "### Universities"
   ]
  },
  {
   "cell_type": "code",
   "execution_count": null,
   "metadata": {},
   "outputs": [],
   "source": [
    "topN = 10\n",
    "counts = Counter(universities)\n",
    "counts = {k: v for k, v in sorted(counts.items(), key=lambda x: x[1])}\n",
    "others = {k: counts[k] for k in list(counts)[:-topN]}\n",
    "counts = {k: counts[k] for k in list(counts)[-topN:]}\n",
    "counts['others'] = sum(list(others.values()))\n",
    "trace = go.Pie(labels=list(counts.keys()), values=list(counts.values()))\n",
    "\n",
    "data = [trace,]\n",
    "layout = go.Layout(title='Likes by university',)\n",
    "fig = go.Figure(data=data, layout=layout)\n",
    "iplot(fig)"
   ]
  },
  {
   "cell_type": "code",
   "execution_count": null,
   "metadata": {},
   "outputs": [],
   "source": []
  }
 ],
 "metadata": {
  "kernelspec": {
   "display_name": "Python 3",
   "language": "python",
   "name": "python3"
  },
  "language_info": {
   "codemirror_mode": {
    "name": "ipython",
    "version": 3
   },
   "file_extension": ".py",
   "mimetype": "text/x-python",
   "name": "python",
   "nbconvert_exporter": "python",
   "pygments_lexer": "ipython3",
   "version": "3.7.2"
  }
 },
 "nbformat": 4,
 "nbformat_minor": 2
}
